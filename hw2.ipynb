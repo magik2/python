{
 "cells": [
  {
   "cell_type": "markdown",
   "metadata": {},
   "source": [
    "Плющевский Андрей, мФТиАД-2019"
   ]
  },
  {
   "cell_type": "code",
   "execution_count": 1,
   "metadata": {},
   "outputs": [],
   "source": [
    "import numpy as np\n",
    "import multiprocessing\n",
    "from itertools import product\n",
    "from IPython import display\n",
    "\n",
    "import warnings\n",
    "warnings.filterwarnings('ignore')"
   ]
  },
  {
   "cell_type": "markdown",
   "metadata": {},
   "source": [
    "### Задание 1. Вычисление числа пи методом Монте-Карло"
   ]
  },
  {
   "cell_type": "code",
   "execution_count": 2,
   "metadata": {},
   "outputs": [
    {
     "name": "stdout",
     "output_type": "stream",
     "text": [
      "3.1428324\n",
      "Wall time: 26 s\n"
     ]
    }
   ],
   "source": [
    "%%time\n",
    "#Реализация через цикл\n",
    "r=0\n",
    "n = 10000000\n",
    "for _ in range(n):\n",
    "    x1 = np.random.random()\n",
    "    x2 = np.random.random()\n",
    "    if x1**2 + x2**2 <= 1:\n",
    "        r+=1\n",
    "r = r*4 / n\n",
    "print(r)"
   ]
  },
  {
   "cell_type": "code",
   "execution_count": 3,
   "metadata": {},
   "outputs": [
    {
     "name": "stdout",
     "output_type": "stream",
     "text": [
      "3.1420144\n",
      "Wall time: 916 ms\n"
     ]
    }
   ],
   "source": [
    "%%time\n",
    "#Векторная реализация\n",
    "n = 10000000\n",
    "x1 = np.random.uniform(0, 1, n)\n",
    "x2 = np.random.uniform(0, 1, n)\n",
    "r = np.sum(np.square(x1) + np.square(x2) <= 1) * 4 / n\n",
    "print(r)"
   ]
  },
  {
   "cell_type": "markdown",
   "metadata": {},
   "source": [
    "Векторная реализация оказалась в ~20 раз быстрее цикла при значении n = 10000000"
   ]
  },
  {
   "cell_type": "markdown",
   "metadata": {},
   "source": [
    "### Задание 3. Перемножение матриц"
   ]
  },
  {
   "cell_type": "code",
   "execution_count": 10,
   "metadata": {},
   "outputs": [],
   "source": [
    "A = np.random.randint(1000, size=(500, 100))\n",
    "B = np.random.randint(1000, size=(100, 50))\n",
    "pool = multiprocessing.Pool(8)"
   ]
  },
  {
   "cell_type": "code",
   "execution_count": 11,
   "metadata": {},
   "outputs": [],
   "source": [
    "#Функции в папке util.py:\n",
    "'''\n",
    "def prod(x1, x2):\n",
    "    return np.sum((i*j) for (i,j) in zip(x1,x2))\n",
    "\n",
    "def row_prod(row, matrix):\n",
    "    r = []\n",
    "    for i in range(matrix.shape[1]):\n",
    "        col = [matrix[k][i] for k in range(len(matrix))]\n",
    "        r.append(prod(row, col))\n",
    "    return r\n",
    "'''\n",
    "from util import *"
   ]
  },
  {
   "cell_type": "code",
   "execution_count": 12,
   "metadata": {},
   "outputs": [],
   "source": [
    "def matrix_prod(A, B, multiproc=True):\n",
    "    if multiproc:\n",
    "        return pool.starmap(row_prod, product(A, [B]))\n",
    "    else:\n",
    "        res = []\n",
    "        for i in range(len(A)):\n",
    "            res.append(row_prod(A[i], B))\n",
    "        return np.array(res)"
   ]
  },
  {
   "cell_type": "code",
   "execution_count": 15,
   "metadata": {},
   "outputs": [
    {
     "name": "stdout",
     "output_type": "stream",
     "text": [
      "Wall time: 4.43 s\n"
     ]
    }
   ],
   "source": [
    "%%time\n",
    "assert(matrix_prod(A, B, False)==A@B).all()"
   ]
  },
  {
   "cell_type": "code",
   "execution_count": 16,
   "metadata": {
    "scrolled": true
   },
   "outputs": [
    {
     "name": "stdout",
     "output_type": "stream",
     "text": [
      "Wall time: 2.01 s\n"
     ]
    }
   ],
   "source": [
    "%%time\n",
    "if __name__ ==  '__main__':\n",
    "    assert(matrix_prod(A, B, True)==A@B).all()"
   ]
  },
  {
   "cell_type": "markdown",
   "metadata": {},
   "source": [
    "При матрицах размером 500x100 и 100x50 (больше я на своём калькуляторе боюсь делать, а то сгорит) параллельное перемножение оказалось в ~2 раза быстрее последовательного "
   ]
  },
  {
   "cell_type": "markdown",
   "metadata": {},
   "source": [
    "### Задание 4. Сортировка"
   ]
  },
  {
   "cell_type": "code",
   "execution_count": 47,
   "metadata": {},
   "outputs": [],
   "source": [
    "def sort_1(lst):\n",
    "    if len(lst) < 2:\n",
    "        return lst\n",
    "    res = []\n",
    "    mid = len(lst) // 2\n",
    "    l = sort_1(lst[:mid])\n",
    "    r = sort_1(lst[mid:])\n",
    "    while (len(l) > 0) and (len(r) > 0):\n",
    "        if l[0] > r[0]:\n",
    "            res.append(r[0])\n",
    "            r.pop(0)\n",
    "        else:\n",
    "            res.append(l[0])\n",
    "            l.pop(0)\n",
    "    res += l\n",
    "    res += r\n",
    "    return res"
   ]
  },
  {
   "cell_type": "code",
   "execution_count": 52,
   "metadata": {},
   "outputs": [
    {
     "name": "stdout",
     "output_type": "stream",
     "text": [
      "[0, 1, 2, 3, 4, 5, 6, 7, 8, 9]\n",
      "Wall time: 996 µs\n"
     ]
    }
   ],
   "source": [
    "%%time\n",
    "lst = [i for i in range(10)]\n",
    "np.random.shuffle(lst)\n",
    "\n",
    "print(sort_1(lst))"
   ]
  },
  {
   "cell_type": "code",
   "execution_count": 54,
   "metadata": {},
   "outputs": [],
   "source": [
    "'''\n",
    "def sort_2(lst, end=None):\n",
    "    if len(lst) < 2:\n",
    "        res = lst\n",
    "    else:\n",
    "        mid = len(lst) // 2\n",
    "\n",
    "        inputs = [lst[:mid], lst[mid:]]\n",
    "        pipes = [multiprocessing.Pipe(False) for _ in inputs]\n",
    "        processes = [multiprocessing.Process(target=sort_2, args=(input, end))\n",
    "                    for input, (get_end, end) in zip(inputs, pipes)]\n",
    "        for process in processes: process.start()\n",
    "        for process in processes: process.join()\n",
    "        result = [get_end.recv() for get_end, end in pipes]\n",
    "        \n",
    "        res = list(merge(*result))\n",
    "\n",
    "    if end:\n",
    "        end.send(res)\n",
    "    else:\n",
    "        return res\n",
    "'''\n",
    "from util import sort_2"
   ]
  },
  {
   "cell_type": "code",
   "execution_count": 55,
   "metadata": {},
   "outputs": [
    {
     "name": "stdout",
     "output_type": "stream",
     "text": [
      "[0, 1, 2, 3, 4, 5, 6, 7, 8, 9]\n",
      "Wall time: 11.2 s\n"
     ]
    }
   ],
   "source": [
    "%%time\n",
    "lst = [i for i in range(10)]\n",
    "np.random.shuffle(lst)\n",
    "\n",
    "if __name__ ==  '__main__':\n",
    "    print(sort_2(lst))"
   ]
  },
  {
   "cell_type": "code",
   "execution_count": null,
   "metadata": {},
   "outputs": [],
   "source": []
  }
 ],
 "metadata": {
  "kernelspec": {
   "display_name": "Python 3",
   "language": "python",
   "name": "python3"
  },
  "language_info": {
   "codemirror_mode": {
    "name": "ipython",
    "version": 3
   },
   "file_extension": ".py",
   "mimetype": "text/x-python",
   "name": "python",
   "nbconvert_exporter": "python",
   "pygments_lexer": "ipython3",
   "version": "3.7.1"
  }
 },
 "nbformat": 4,
 "nbformat_minor": 2
}
